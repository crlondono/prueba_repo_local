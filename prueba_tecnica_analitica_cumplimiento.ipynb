{
  "nbformat": 4,
  "nbformat_minor": 0,
  "metadata": {
    "colab": {
      "name": "prueba_tecnica_analitica_cumplimiento.ipynb",
      "provenance": [],
      "collapsed_sections": [],
      "mount_file_id": "1WFIHQrwyvDflIunJgG_A0gol5zqmOFHr",
      "authorship_tag": "ABX9TyOY9M+ezrpOqpv2QPDqjdLY",
      "include_colab_link": true
    },
    "kernelspec": {
      "name": "python3",
      "display_name": "Python 3"
    },
    "language_info": {
      "name": "python"
    }
  },
  "cells": [
    {
      "cell_type": "markdown",
      "metadata": {
        "id": "view-in-github",
        "colab_type": "text"
      },
      "source": [
        "<a href=\"https://colab.research.google.com/github/crlondono/prueba_repo_local/blob/master/prueba_tecnica_analitica_cumplimiento.ipynb\" target=\"_parent\"><img src=\"https://colab.research.google.com/assets/colab-badge.svg\" alt=\"Open In Colab\"/></a>"
      ]
    },
    {
      "cell_type": "code",
      "metadata": {
        "colab": {
          "base_uri": "https://localhost:8080/"
        },
        "id": "KJaws3hstixy",
        "outputId": "88b01195-3c1d-4c77-fdfb-734d9614eb54"
      },
      "source": [
        "!pwd"
      ],
      "execution_count": null,
      "outputs": [
        {
          "output_type": "stream",
          "text": [
            "/content\n"
          ],
          "name": "stdout"
        }
      ]
    },
    {
      "cell_type": "code",
      "metadata": {
        "colab": {
          "base_uri": "https://localhost:8080/"
        },
        "id": "c1WpFJx0xkv8",
        "outputId": "b08f060f-7d70-4f23-d8c7-75b837b7f982"
      },
      "source": [
        "!ls"
      ],
      "execution_count": null,
      "outputs": [
        {
          "output_type": "stream",
          "text": [
            "datos_con_id.csv  drive  sample_data\n"
          ],
          "name": "stdout"
        }
      ]
    },
    {
      "cell_type": "code",
      "metadata": {
        "id": "hUUI25JRxnYb"
      },
      "source": [
        "# leemos los datos procesados en R\n",
        "import pandas as pd\n",
        "import numpy as np\n",
        "import io\n",
        "\n",
        "df = pd.read_csv('datos_con_id.csv', sep=';')"
      ],
      "execution_count": null,
      "outputs": []
    },
    {
      "cell_type": "code",
      "metadata": {
        "colab": {
          "base_uri": "https://localhost:8080/",
          "height": 224
        },
        "id": "Mj5v3me9y47o",
        "outputId": "8fd3e521-15db-4e51-e621-2c312eb79feb"
      },
      "source": [
        "df.head()"
      ],
      "execution_count": null,
      "outputs": [
        {
          "output_type": "execute_result",
          "data": {
            "text/html": [
              "<div>\n",
              "<style scoped>\n",
              "    .dataframe tbody tr th:only-of-type {\n",
              "        vertical-align: middle;\n",
              "    }\n",
              "\n",
              "    .dataframe tbody tr th {\n",
              "        vertical-align: top;\n",
              "    }\n",
              "\n",
              "    .dataframe thead th {\n",
              "        text-align: right;\n",
              "    }\n",
              "</style>\n",
              "<table border=\"1\" class=\"dataframe\">\n",
              "  <thead>\n",
              "    <tr style=\"text-align: right;\">\n",
              "      <th></th>\n",
              "      <th>id</th>\n",
              "      <th>frecuencia_pais</th>\n",
              "      <th>frecuencia_rem</th>\n",
              "      <th>riesgo_sucursal</th>\n",
              "      <th>frecuencia_suc</th>\n",
              "      <th>n_municipios_remesas</th>\n",
              "      <th>n_sucursales_remesas</th>\n",
              "      <th>n_paises_remesas</th>\n",
              "      <th>n_remesadoras</th>\n",
              "      <th>n_ordenantes_remesas</th>\n",
              "      <th>frecuencia_remsas</th>\n",
              "      <th>monto_remesas</th>\n",
              "      <th>riesgo_jurisdiccion_remesas</th>\n",
              "      <th>n_municipios_divisas</th>\n",
              "      <th>n_sucursales_divisas</th>\n",
              "      <th>frecuencia_divisas</th>\n",
              "      <th>monto_divisas</th>\n",
              "      <th>riesgo_remesadora_num</th>\n",
              "    </tr>\n",
              "  </thead>\n",
              "  <tbody>\n",
              "    <tr>\n",
              "      <th>0</th>\n",
              "      <td>1</td>\n",
              "      <td>1.0</td>\n",
              "      <td>1.0</td>\n",
              "      <td>1</td>\n",
              "      <td>1.0</td>\n",
              "      <td>1</td>\n",
              "      <td>1</td>\n",
              "      <td>1</td>\n",
              "      <td>1</td>\n",
              "      <td>1</td>\n",
              "      <td>1</td>\n",
              "      <td>788.96</td>\n",
              "      <td>1</td>\n",
              "      <td>0</td>\n",
              "      <td>0</td>\n",
              "      <td>0</td>\n",
              "      <td>0.0</td>\n",
              "      <td>2</td>\n",
              "    </tr>\n",
              "    <tr>\n",
              "      <th>1</th>\n",
              "      <td>2</td>\n",
              "      <td>34.0</td>\n",
              "      <td>33.0</td>\n",
              "      <td>1</td>\n",
              "      <td>34.0</td>\n",
              "      <td>1</td>\n",
              "      <td>1</td>\n",
              "      <td>1</td>\n",
              "      <td>2</td>\n",
              "      <td>2</td>\n",
              "      <td>34</td>\n",
              "      <td>8698.18</td>\n",
              "      <td>1</td>\n",
              "      <td>0</td>\n",
              "      <td>0</td>\n",
              "      <td>0</td>\n",
              "      <td>0.0</td>\n",
              "      <td>0</td>\n",
              "    </tr>\n",
              "    <tr>\n",
              "      <th>2</th>\n",
              "      <td>3</td>\n",
              "      <td>84.0</td>\n",
              "      <td>39.0</td>\n",
              "      <td>1</td>\n",
              "      <td>52.0</td>\n",
              "      <td>1</td>\n",
              "      <td>3</td>\n",
              "      <td>2</td>\n",
              "      <td>9</td>\n",
              "      <td>53</td>\n",
              "      <td>86</td>\n",
              "      <td>13726.62</td>\n",
              "      <td>2</td>\n",
              "      <td>0</td>\n",
              "      <td>0</td>\n",
              "      <td>0</td>\n",
              "      <td>0.0</td>\n",
              "      <td>2</td>\n",
              "    </tr>\n",
              "    <tr>\n",
              "      <th>3</th>\n",
              "      <td>4</td>\n",
              "      <td>3.0</td>\n",
              "      <td>3.0</td>\n",
              "      <td>1</td>\n",
              "      <td>3.0</td>\n",
              "      <td>1</td>\n",
              "      <td>1</td>\n",
              "      <td>1</td>\n",
              "      <td>1</td>\n",
              "      <td>1</td>\n",
              "      <td>3</td>\n",
              "      <td>161.71</td>\n",
              "      <td>1</td>\n",
              "      <td>0</td>\n",
              "      <td>0</td>\n",
              "      <td>0</td>\n",
              "      <td>0.0</td>\n",
              "      <td>0</td>\n",
              "    </tr>\n",
              "    <tr>\n",
              "      <th>4</th>\n",
              "      <td>5</td>\n",
              "      <td>6.0</td>\n",
              "      <td>5.0</td>\n",
              "      <td>1</td>\n",
              "      <td>11.0</td>\n",
              "      <td>1</td>\n",
              "      <td>1</td>\n",
              "      <td>2</td>\n",
              "      <td>3</td>\n",
              "      <td>9</td>\n",
              "      <td>11</td>\n",
              "      <td>11298.44</td>\n",
              "      <td>1</td>\n",
              "      <td>0</td>\n",
              "      <td>0</td>\n",
              "      <td>0</td>\n",
              "      <td>0.0</td>\n",
              "      <td>2</td>\n",
              "    </tr>\n",
              "  </tbody>\n",
              "</table>\n",
              "</div>"
            ],
            "text/plain": [
              "   id  frecuencia_pais  ...  monto_divisas  riesgo_remesadora_num\n",
              "0   1              1.0  ...            0.0                      2\n",
              "1   2             34.0  ...            0.0                      0\n",
              "2   3             84.0  ...            0.0                      2\n",
              "3   4              3.0  ...            0.0                      0\n",
              "4   5              6.0  ...            0.0                      2\n",
              "\n",
              "[5 rows x 18 columns]"
            ]
          },
          "metadata": {},
          "execution_count": 8
        }
      ]
    },
    {
      "cell_type": "code",
      "metadata": {
        "colab": {
          "base_uri": "https://localhost:8080/",
          "height": 224
        },
        "id": "L2Ha1dUZ1EIE",
        "outputId": "152b1e4d-23f0-4c82-c8f0-a16eaaa673bb"
      },
      "source": [
        "# quitamos la variable id \n",
        "df_k = df.drop(['id'], axis=1)\n",
        "df_k.head()"
      ],
      "execution_count": null,
      "outputs": [
        {
          "output_type": "execute_result",
          "data": {
            "text/html": [
              "<div>\n",
              "<style scoped>\n",
              "    .dataframe tbody tr th:only-of-type {\n",
              "        vertical-align: middle;\n",
              "    }\n",
              "\n",
              "    .dataframe tbody tr th {\n",
              "        vertical-align: top;\n",
              "    }\n",
              "\n",
              "    .dataframe thead th {\n",
              "        text-align: right;\n",
              "    }\n",
              "</style>\n",
              "<table border=\"1\" class=\"dataframe\">\n",
              "  <thead>\n",
              "    <tr style=\"text-align: right;\">\n",
              "      <th></th>\n",
              "      <th>frecuencia_pais</th>\n",
              "      <th>frecuencia_rem</th>\n",
              "      <th>riesgo_sucursal</th>\n",
              "      <th>frecuencia_suc</th>\n",
              "      <th>n_municipios_remesas</th>\n",
              "      <th>n_sucursales_remesas</th>\n",
              "      <th>n_paises_remesas</th>\n",
              "      <th>n_remesadoras</th>\n",
              "      <th>n_ordenantes_remesas</th>\n",
              "      <th>frecuencia_remsas</th>\n",
              "      <th>monto_remesas</th>\n",
              "      <th>riesgo_jurisdiccion_remesas</th>\n",
              "      <th>n_municipios_divisas</th>\n",
              "      <th>n_sucursales_divisas</th>\n",
              "      <th>frecuencia_divisas</th>\n",
              "      <th>monto_divisas</th>\n",
              "      <th>riesgo_remesadora_num</th>\n",
              "    </tr>\n",
              "  </thead>\n",
              "  <tbody>\n",
              "    <tr>\n",
              "      <th>0</th>\n",
              "      <td>1.0</td>\n",
              "      <td>1.0</td>\n",
              "      <td>1</td>\n",
              "      <td>1.0</td>\n",
              "      <td>1</td>\n",
              "      <td>1</td>\n",
              "      <td>1</td>\n",
              "      <td>1</td>\n",
              "      <td>1</td>\n",
              "      <td>1</td>\n",
              "      <td>788.96</td>\n",
              "      <td>1</td>\n",
              "      <td>0</td>\n",
              "      <td>0</td>\n",
              "      <td>0</td>\n",
              "      <td>0.0</td>\n",
              "      <td>2</td>\n",
              "    </tr>\n",
              "    <tr>\n",
              "      <th>1</th>\n",
              "      <td>34.0</td>\n",
              "      <td>33.0</td>\n",
              "      <td>1</td>\n",
              "      <td>34.0</td>\n",
              "      <td>1</td>\n",
              "      <td>1</td>\n",
              "      <td>1</td>\n",
              "      <td>2</td>\n",
              "      <td>2</td>\n",
              "      <td>34</td>\n",
              "      <td>8698.18</td>\n",
              "      <td>1</td>\n",
              "      <td>0</td>\n",
              "      <td>0</td>\n",
              "      <td>0</td>\n",
              "      <td>0.0</td>\n",
              "      <td>0</td>\n",
              "    </tr>\n",
              "    <tr>\n",
              "      <th>2</th>\n",
              "      <td>84.0</td>\n",
              "      <td>39.0</td>\n",
              "      <td>1</td>\n",
              "      <td>52.0</td>\n",
              "      <td>1</td>\n",
              "      <td>3</td>\n",
              "      <td>2</td>\n",
              "      <td>9</td>\n",
              "      <td>53</td>\n",
              "      <td>86</td>\n",
              "      <td>13726.62</td>\n",
              "      <td>2</td>\n",
              "      <td>0</td>\n",
              "      <td>0</td>\n",
              "      <td>0</td>\n",
              "      <td>0.0</td>\n",
              "      <td>2</td>\n",
              "    </tr>\n",
              "    <tr>\n",
              "      <th>3</th>\n",
              "      <td>3.0</td>\n",
              "      <td>3.0</td>\n",
              "      <td>1</td>\n",
              "      <td>3.0</td>\n",
              "      <td>1</td>\n",
              "      <td>1</td>\n",
              "      <td>1</td>\n",
              "      <td>1</td>\n",
              "      <td>1</td>\n",
              "      <td>3</td>\n",
              "      <td>161.71</td>\n",
              "      <td>1</td>\n",
              "      <td>0</td>\n",
              "      <td>0</td>\n",
              "      <td>0</td>\n",
              "      <td>0.0</td>\n",
              "      <td>0</td>\n",
              "    </tr>\n",
              "    <tr>\n",
              "      <th>4</th>\n",
              "      <td>6.0</td>\n",
              "      <td>5.0</td>\n",
              "      <td>1</td>\n",
              "      <td>11.0</td>\n",
              "      <td>1</td>\n",
              "      <td>1</td>\n",
              "      <td>2</td>\n",
              "      <td>3</td>\n",
              "      <td>9</td>\n",
              "      <td>11</td>\n",
              "      <td>11298.44</td>\n",
              "      <td>1</td>\n",
              "      <td>0</td>\n",
              "      <td>0</td>\n",
              "      <td>0</td>\n",
              "      <td>0.0</td>\n",
              "      <td>2</td>\n",
              "    </tr>\n",
              "  </tbody>\n",
              "</table>\n",
              "</div>"
            ],
            "text/plain": [
              "   frecuencia_pais  frecuencia_rem  ...  monto_divisas  riesgo_remesadora_num\n",
              "0              1.0             1.0  ...            0.0                      2\n",
              "1             34.0            33.0  ...            0.0                      0\n",
              "2             84.0            39.0  ...            0.0                      2\n",
              "3              3.0             3.0  ...            0.0                      0\n",
              "4              6.0             5.0  ...            0.0                      2\n",
              "\n",
              "[5 rows x 17 columns]"
            ]
          },
          "metadata": {},
          "execution_count": 11
        }
      ]
    },
    {
      "cell_type": "code",
      "metadata": {
        "colab": {
          "base_uri": "https://localhost:8080/"
        },
        "id": "aSjljTym38gS",
        "outputId": "2c094131-43b4-4d7b-ae46-89709405a80b"
      },
      "source": [
        "df_k.shape"
      ],
      "execution_count": null,
      "outputs": [
        {
          "output_type": "execute_result",
          "data": {
            "text/plain": [
              "(1643847, 17)"
            ]
          },
          "metadata": {},
          "execution_count": 13
        }
      ]
    },
    {
      "cell_type": "code",
      "metadata": {
        "id": "gMBgfoIT4L-i"
      },
      "source": [
        "# se escalan las variables\n",
        "from sklearn.preprocessing import StandardScaler\n",
        "df_sc = StandardScaler().fit_transform(df_k)"
      ],
      "execution_count": null,
      "outputs": []
    },
    {
      "cell_type": "code",
      "metadata": {
        "colab": {
          "base_uri": "https://localhost:8080/"
        },
        "id": "vSK7J-bi5oaF",
        "outputId": "24172b1c-dbab-464f-9951-a84db602def8"
      },
      "source": [
        "df_sc\n",
        "df_sc.shape"
      ],
      "execution_count": null,
      "outputs": [
        {
          "output_type": "execute_result",
          "data": {
            "text/plain": [
              "(1643847, 17)"
            ]
          },
          "metadata": {},
          "execution_count": 28
        }
      ]
    },
    {
      "cell_type": "code",
      "metadata": {
        "id": "f_kZvtrA9mvH"
      },
      "source": [
        "# importamos mini_batch_kmeans\n",
        "from sklearn.cluster import MiniBatchKMeans"
      ],
      "execution_count": null,
      "outputs": []
    },
    {
      "cell_type": "code",
      "metadata": {
        "id": "lUjmz9NNepA2"
      },
      "source": [
        "l = []\n",
        "for n in range(2,15):\n",
        "  mb_kmeans = MiniBatchKMeans(n_clusters=n, n_init = 5, batch_size=50)\n",
        "  mb_kmeans.fit(df_sc)\n",
        "  tupla=(n, mb_kmeans.inertia_)\n",
        "  l.append(tupla)"
      ],
      "execution_count": null,
      "outputs": []
    },
    {
      "cell_type": "code",
      "metadata": {
        "colab": {
          "base_uri": "https://localhost:8080/"
        },
        "id": "2LRc3LObgMH7",
        "outputId": "3b03dedb-bfe9-468c-ce65-d5dc52114447"
      },
      "source": [
        "# vamos las incercias dependiendo de la cantidad de grupos\n",
        "l"
      ],
      "execution_count": null,
      "outputs": [
        {
          "output_type": "execute_result",
          "data": {
            "text/plain": [
              "[(2, 23440555.90393232),\n",
              " (3, 21311780.116020054),\n",
              " (4, 20426506.413302567),\n",
              " (5, 19554672.33707628),\n",
              " (6, 18703118.91066238),\n",
              " (7, 16988337.327483628),\n",
              " (8, 16532666.362632511),\n",
              " (9, 15340482.325785082),\n",
              " (10, 11437121.614829378),\n",
              " (11, 14498681.563530378),\n",
              " (12, 15037482.039980194),\n",
              " (13, 15195269.355400372),\n",
              " (14, 10321689.550846906)]"
            ]
          },
          "metadata": {},
          "execution_count": 48
        }
      ]
    },
    {
      "cell_type": "code",
      "metadata": {
        "id": "7QFGzpj_jjAP"
      },
      "source": [
        "# importamos el algoritmo k - medias\n",
        "from sklearn.cluster import KMeans"
      ],
      "execution_count": null,
      "outputs": []
    },
    {
      "cell_type": "code",
      "metadata": {
        "id": "qAJKwx8-nc94"
      },
      "source": [
        "# vemos la variación de la incercia dependiendo del número de grupos\n",
        "lista = []\n",
        "for n in range(2,11):\n",
        "  kmeans = KMeans(n_clusters=n)\n",
        "  kmeans.fit(df_sc)\n",
        "  tupla=(n, kmeans.inertia_)\n",
        "  lista.append(tupla)"
      ],
      "execution_count": null,
      "outputs": []
    },
    {
      "cell_type": "code",
      "metadata": {
        "colab": {
          "base_uri": "https://localhost:8080/"
        },
        "id": "KI9u_LyHq4oi",
        "outputId": "ab92734a-d6f9-42e8-9e72-aff1e6b9a7d2"
      },
      "source": [
        "# resultados lista de inercias por grupo\n",
        "lista"
      ],
      "execution_count": null,
      "outputs": [
        {
          "output_type": "execute_result",
          "data": {
            "text/plain": [
              "[(2, 22932140.581028573),\n",
              " (3, 19305758.194083963),\n",
              " (4, 17428839.2112167),\n",
              " (5, 15966140.074335756),\n",
              " (6, 14614118.193463102),\n",
              " (7, 13303314.896972673),\n",
              " (8, 11995221.872379946),\n",
              " (9, 11198958.645253748),\n",
              " (10, 10420019.681830209)]"
            ]
          },
          "metadata": {},
          "execution_count": 58
        }
      ]
    },
    {
      "cell_type": "code",
      "metadata": {
        "id": "gUi-anLI3Z8e"
      },
      "source": [
        "# guardamos los modelos y las inercias para diferentes corridas de kmeans\n",
        "kmeans_per_k = [KMeans(n_clusters=k, random_state=5).fit(df_sc)\n",
        "                for k in range(2, 11)]\n",
        "inertias = [model.inertia_ for model in kmeans_per_k]"
      ],
      "execution_count": null,
      "outputs": []
    },
    {
      "cell_type": "code",
      "metadata": {
        "colab": {
          "base_uri": "https://localhost:8080/"
        },
        "id": "M15g5hjC7tKa",
        "outputId": "9f9dab2d-0026-469f-f36b-b645a0c2c927"
      },
      "source": [
        "inertias"
      ],
      "execution_count": null,
      "outputs": [
        {
          "output_type": "execute_result",
          "data": {
            "text/plain": [
              "[22932139.91603025,\n",
              " 19305755.546726808,\n",
              " 17417511.8137562,\n",
              " 15966140.074335756,\n",
              " 14645119.098384839,\n",
              " 13303281.28460783,\n",
              " 11995226.4772325,\n",
              " 11196049.153461281,\n",
              " 10420021.379688416]"
            ]
          },
          "metadata": {},
          "execution_count": 71
        }
      ]
    },
    {
      "cell_type": "code",
      "metadata": {
        "colab": {
          "base_uri": "https://localhost:8080/"
        },
        "id": "6kQX5s_l7-0Q",
        "outputId": "f8b4f526-3470-4a02-8c82-c305d5ccfffd"
      },
      "source": [
        "kmeans_per_k"
      ],
      "execution_count": null,
      "outputs": [
        {
          "output_type": "execute_result",
          "data": {
            "text/plain": [
              "[KMeans(algorithm='auto', copy_x=True, init='k-means++', max_iter=300,\n",
              "        n_clusters=2, n_init=10, n_jobs=None, precompute_distances='auto',\n",
              "        random_state=5, tol=0.0001, verbose=0),\n",
              " KMeans(algorithm='auto', copy_x=True, init='k-means++', max_iter=300,\n",
              "        n_clusters=3, n_init=10, n_jobs=None, precompute_distances='auto',\n",
              "        random_state=5, tol=0.0001, verbose=0),\n",
              " KMeans(algorithm='auto', copy_x=True, init='k-means++', max_iter=300,\n",
              "        n_clusters=4, n_init=10, n_jobs=None, precompute_distances='auto',\n",
              "        random_state=5, tol=0.0001, verbose=0),\n",
              " KMeans(algorithm='auto', copy_x=True, init='k-means++', max_iter=300,\n",
              "        n_clusters=5, n_init=10, n_jobs=None, precompute_distances='auto',\n",
              "        random_state=5, tol=0.0001, verbose=0),\n",
              " KMeans(algorithm='auto', copy_x=True, init='k-means++', max_iter=300,\n",
              "        n_clusters=6, n_init=10, n_jobs=None, precompute_distances='auto',\n",
              "        random_state=5, tol=0.0001, verbose=0),\n",
              " KMeans(algorithm='auto', copy_x=True, init='k-means++', max_iter=300,\n",
              "        n_clusters=7, n_init=10, n_jobs=None, precompute_distances='auto',\n",
              "        random_state=5, tol=0.0001, verbose=0),\n",
              " KMeans(algorithm='auto', copy_x=True, init='k-means++', max_iter=300,\n",
              "        n_clusters=8, n_init=10, n_jobs=None, precompute_distances='auto',\n",
              "        random_state=5, tol=0.0001, verbose=0),\n",
              " KMeans(algorithm='auto', copy_x=True, init='k-means++', max_iter=300,\n",
              "        n_clusters=9, n_init=10, n_jobs=None, precompute_distances='auto',\n",
              "        random_state=5, tol=0.0001, verbose=0),\n",
              " KMeans(algorithm='auto', copy_x=True, init='k-means++', max_iter=300,\n",
              "        n_clusters=10, n_init=10, n_jobs=None, precompute_distances='auto',\n",
              "        random_state=5, tol=0.0001, verbose=0)]"
            ]
          },
          "metadata": {},
          "execution_count": 74
        }
      ]
    },
    {
      "cell_type": "code",
      "metadata": {
        "id": "wk5pndk6PW2V"
      },
      "source": [
        "# se calcula el porcentaje de registros por grupo\n",
        "porcentajes_grupos = []\n",
        "y_predichos = []\n",
        "\n",
        "for km in kmeans_per_k:\n",
        "  y_pred = km.fit_predict(df_sc)\n",
        "  y_predichos.append(y_pred)\n",
        "  count_arr = np.bincount(y_pred)\n",
        "  porcentajes_grupos.append((len(count_arr), (count_arr/1643847)*100))\n",
        "  "
      ],
      "execution_count": null,
      "outputs": []
    },
    {
      "cell_type": "code",
      "metadata": {
        "colab": {
          "base_uri": "https://localhost:8080/"
        },
        "id": "mq6zFR69_aTk",
        "outputId": "831c42d9-be0b-421b-f366-7d0de8580103"
      },
      "source": [
        "porcentajes_grupos"
      ],
      "execution_count": null,
      "outputs": [
        {
          "output_type": "execute_result",
          "data": {
            "text/plain": [
              "[(2, array([88.41485856, 11.58514144])),\n",
              " (3, array([ 0.54116959, 87.91694118, 11.54188924])),\n",
              " (4, array([73.01050524,  3.93747107,  0.54110875, 22.51091495])),\n",
              " (5, array([72.23415561,  2.53551577, 15.54743233,  0.54110875,  9.14178753])),\n",
              " (6, array([70.98288344,  2.50193601,  1.90692929,  0.54110875, 15.09270632,\n",
              "          8.97443619])),\n",
              " (7, array([5.40987087e-01, 7.16768653e+01, 2.53442078e+00, 9.08795040e+00,\n",
              "         6.81085283e-01, 1.21665824e-04, 1.54785695e+01])),\n",
              " (8, array([7.07566458e+01, 2.42133240e+00, 1.88995691e+00, 5.40987087e-01,\n",
              "         1.47892109e+01, 8.92169405e+00, 1.21665824e-04, 6.80051124e-01])),\n",
              " (9, array([1.87292370e+00, 6.88214292e+01, 7.58495164e+00, 5.40926254e-01,\n",
              "         2.15889922e+00, 1.21665824e-04, 6.80111957e-01, 1.17362504e+01,\n",
              "         6.60438593e+00])),\n",
              " (10, array([1.57983681e+01, 1.81318578e+00, 1.87626951e+00, 5.40926254e-01,\n",
              "         1.01036775e+01, 5.86283273e+00, 1.21665824e-04, 6.80172790e-01,\n",
              "         8.10008474e+00, 5.52243609e+01]))]"
            ]
          },
          "metadata": {},
          "execution_count": 85
        }
      ]
    },
    {
      "cell_type": "code",
      "metadata": {
        "colab": {
          "base_uri": "https://localhost:8080/"
        },
        "id": "DyCwQ0QuO3Li",
        "outputId": "cbfcb007-adfa-4e3a-c781-30ae618337bb"
      },
      "source": [
        "from sklearn.metrics import silhouette_score\n",
        "#n=2\n",
        "silhouette_score(df_sc , kmeans_per_k[0].labels_, sample_size = 100000)"
      ],
      "execution_count": null,
      "outputs": [
        {
          "output_type": "execute_result",
          "data": {
            "text/plain": [
              "0.532996647798954"
            ]
          },
          "metadata": {},
          "execution_count": 90
        }
      ]
    },
    {
      "cell_type": "code",
      "metadata": {
        "colab": {
          "base_uri": "https://localhost:8080/"
        },
        "id": "GxFOgngRSakl",
        "outputId": "8f95023e-7a0d-4c3b-818a-3d3093db016b"
      },
      "source": [
        "# el score cambia muy poco al ampliar la muestra\n",
        "silhouette_score(df_sc , kmeans_per_k[0].labels_, sample_size = 200000)"
      ],
      "execution_count": null,
      "outputs": [
        {
          "output_type": "execute_result",
          "data": {
            "text/plain": [
              "0.5329268975690012"
            ]
          },
          "metadata": {},
          "execution_count": 91
        }
      ]
    },
    {
      "cell_type": "code",
      "metadata": {
        "colab": {
          "base_uri": "https://localhost:8080/"
        },
        "id": "cYah7VQhZJLm",
        "outputId": "74e1061c-7c83-45f6-9fa6-5d8f6fa87816"
      },
      "source": [
        "# n = 10\n",
        "silhouette_score(df_sc , kmeans_per_k[8].labels_, sample_size = 100000)"
      ],
      "execution_count": null,
      "outputs": [
        {
          "output_type": "execute_result",
          "data": {
            "text/plain": [
              "0.3546064586481076"
            ]
          },
          "metadata": {},
          "execution_count": 105
        }
      ]
    },
    {
      "cell_type": "code",
      "metadata": {
        "colab": {
          "base_uri": "https://localhost:8080/"
        },
        "id": "lSfwEf5GpmUw",
        "outputId": "98acc65c-6945-4836-9dde-8b83d4b90e5a"
      },
      "source": [
        "# # el score cambia muy poco al ampliar la muestra\n",
        "silhouette_score(df_sc , kmeans_per_k[8].labels_, sample_size = 200000)"
      ],
      "execution_count": null,
      "outputs": [
        {
          "output_type": "execute_result",
          "data": {
            "text/plain": [
              "0.354710880737771"
            ]
          },
          "metadata": {},
          "execution_count": 106
        }
      ]
    },
    {
      "cell_type": "code",
      "metadata": {
        "id": "lXWGp56DPjUn"
      },
      "source": [
        "# se utiliza el silhouette_score para determinar el nro de grupos\n",
        "from sklearn.metrics import silhouette_score \n",
        "\n",
        "lista_sil = []\n",
        "for n in range(2,11):\n",
        "  sil_score = silhouette_score(df_sc,kmeans_per_k[n].labels_, sample_size = 100000)\n",
        "  lista_sil.append(sil_score)\n"
      ],
      "execution_count": null,
      "outputs": []
    },
    {
      "cell_type": "code",
      "metadata": {
        "id": "3OB0PEqMyB1b"
      },
      "source": [
        "# teniendo en cuenta el silhouette score, las inercias y la cantidad de datos por grupo\n",
        "# escogemos 3 como el número de grupos del agrupamiento\n",
        "# se marcan entonces las marcas de cada grupo\n",
        "df_resultado = df.assign(cluster = kmeans_per_k[1].labels_)"
      ],
      "execution_count": null,
      "outputs": []
    },
    {
      "cell_type": "code",
      "metadata": {
        "colab": {
          "base_uri": "https://localhost:8080/"
        },
        "id": "cedcWAOe225d",
        "outputId": "4788473e-9c5e-4716-fa06-3ff7d35ce28a"
      },
      "source": [
        "# exportamos los resultados\n",
        "df_resultado.shape"
      ],
      "execution_count": null,
      "outputs": [
        {
          "output_type": "execute_result",
          "data": {
            "text/plain": [
              "(1643847, 19)"
            ]
          },
          "metadata": {},
          "execution_count": 118
        }
      ]
    },
    {
      "cell_type": "code",
      "metadata": {
        "id": "F-4RUAZJ3TN7"
      },
      "source": [
        "# tomamos sólo las columnas de id y cluster\n",
        "df_resultado = df_resultado[['id','cluster']]"
      ],
      "execution_count": null,
      "outputs": []
    },
    {
      "cell_type": "code",
      "metadata": {
        "id": "j13ydn3t4NIx"
      },
      "source": [
        "df_resultado.to_csv('resultado_agrupamiento.csv', sep=',', index=False)"
      ],
      "execution_count": null,
      "outputs": []
    }
  ]
}